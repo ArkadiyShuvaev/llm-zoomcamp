{
 "cells": [
  {
   "cell_type": "code",
   "execution_count": null,
   "metadata": {},
   "outputs": [],
   "source": [
    "!pip install -Uq torch"
   ]
  },
  {
   "cell_type": "code",
   "execution_count": null,
   "id": "78adcf99-ba0d-434c-8e73-25feb61a8795",
   "metadata": {
    "execution": {
     "iopub.execute_input": "2024-06-26T10:45:38.974617Z",
     "iopub.status.busy": "2024-06-26T10:45:38.974209Z",
     "iopub.status.idle": "2024-06-26T10:45:42.129554Z",
     "shell.execute_reply": "2024-06-26T10:45:42.128632Z",
     "shell.execute_reply.started": "2024-06-26T10:45:38.974590Z"
    },
    "tags": []
   },
   "outputs": [],
   "source": [
    "!pip install -Uq transformers accelerate bitsandbytes"
   ]
  },
  {
   "cell_type": "code",
   "execution_count": 4,
   "id": "476167a6-db41-4a73-a2ce-f29e7c7178cd",
   "metadata": {
    "execution": {
     "iopub.execute_input": "2024-06-26T10:45:55.096888Z",
     "iopub.status.busy": "2024-06-26T10:45:55.096479Z",
     "iopub.status.idle": "2024-06-26T10:45:55.100606Z",
     "shell.execute_reply": "2024-06-26T10:45:55.099865Z",
     "shell.execute_reply.started": "2024-06-26T10:45:55.096858Z"
    },
    "tags": []
   },
   "outputs": [],
   "source": [
    "import os\n",
    "\n",
    "os.environ[\"HF_HOME\"] = \"/run/cache/\""
   ]
  },
  {
   "cell_type": "code",
   "execution_count": 7,
   "id": "22c933b6-cf38-48da-b883-7c4c5f110f51",
   "metadata": {
    "execution": {
     "iopub.execute_input": "2024-06-26T10:46:29.211803Z",
     "iopub.status.busy": "2024-06-26T10:46:29.211246Z",
     "iopub.status.idle": "2024-06-26T10:46:31.715101Z",
     "shell.execute_reply": "2024-06-26T10:46:31.714373Z",
     "shell.execute_reply.started": "2024-06-26T10:46:29.211743Z"
    },
    "tags": []
   },
   "outputs": [],
   "source": [
    "from transformers import T5ForConditionalGeneration, T5Tokenizer"
   ]
  },
  {
   "cell_type": "code",
   "execution_count": 8,
   "id": "2386ac27-c328-43a4-a2ce-984283ff8828",
   "metadata": {
    "execution": {
     "iopub.execute_input": "2024-06-26T10:46:45.532763Z",
     "iopub.status.busy": "2024-06-26T10:46:45.532233Z",
     "iopub.status.idle": "2024-06-26T10:49:37.929271Z",
     "shell.execute_reply": "2024-06-26T10:49:37.928509Z",
     "shell.execute_reply.started": "2024-06-26T10:46:45.532734Z"
    },
    "tags": []
   },
   "outputs": [
    {
     "data": {
      "application/vnd.jupyter.widget-view+json": {
       "model_id": "8efdf0c62983400aaa7fb3cc44c2d5aa",
       "version_major": 2,
       "version_minor": 0
      },
      "text/plain": [
       "tokenizer_config.json:   0%|          | 0.00/2.54k [00:00<?, ?B/s]"
      ]
     },
     "metadata": {},
     "output_type": "display_data"
    },
    {
     "data": {
      "application/vnd.jupyter.widget-view+json": {
       "model_id": "abbd2706a9d64bc2a0f8e3928d162fdd",
       "version_major": 2,
       "version_minor": 0
      },
      "text/plain": [
       "spiece.model:   0%|          | 0.00/792k [00:00<?, ?B/s]"
      ]
     },
     "metadata": {},
     "output_type": "display_data"
    },
    {
     "data": {
      "application/vnd.jupyter.widget-view+json": {
       "model_id": "80f7b920b34c4b29af3b83e23140b3f0",
       "version_major": 2,
       "version_minor": 0
      },
      "text/plain": [
       "special_tokens_map.json:   0%|          | 0.00/2.20k [00:00<?, ?B/s]"
      ]
     },
     "metadata": {},
     "output_type": "display_data"
    },
    {
     "data": {
      "application/vnd.jupyter.widget-view+json": {
       "model_id": "39fdc1fd8b5a4a6ebd71c00240294f41",
       "version_major": 2,
       "version_minor": 0
      },
      "text/plain": [
       "tokenizer.json:   0%|          | 0.00/2.42M [00:00<?, ?B/s]"
      ]
     },
     "metadata": {},
     "output_type": "display_data"
    },
    {
     "name": "stderr",
     "output_type": "stream",
     "text": [
      "You are using the default legacy behaviour of the <class 'transformers.models.t5.tokenization_t5.T5Tokenizer'>. This is expected, and simply means that the `legacy` (previous) behavior will be used so nothing changes for you. If you want to use the new behaviour, set `legacy=False`. This should only be set if you understand what it means, and thoroughly read the reason why this was added as explained in https://github.com/huggingface/transformers/pull/24565\n",
      "Special tokens have been added in the vocabulary, make sure the associated word embeddings are fine-tuned or trained.\n"
     ]
    },
    {
     "data": {
      "application/vnd.jupyter.widget-view+json": {
       "model_id": "89f260dbb0fa4a2eadb986462831f8a3",
       "version_major": 2,
       "version_minor": 0
      },
      "text/plain": [
       "config.json:   0%|          | 0.00/1.44k [00:00<?, ?B/s]"
      ]
     },
     "metadata": {},
     "output_type": "display_data"
    },
    {
     "data": {
      "application/vnd.jupyter.widget-view+json": {
       "model_id": "aacfa5b0a6f94d118de2abadcde92ec9",
       "version_major": 2,
       "version_minor": 0
      },
      "text/plain": [
       "model.safetensors.index.json:   0%|          | 0.00/53.0k [00:00<?, ?B/s]"
      ]
     },
     "metadata": {},
     "output_type": "display_data"
    },
    {
     "data": {
      "application/vnd.jupyter.widget-view+json": {
       "model_id": "62804ddb5e4d4f3c9e6eefaba6614b56",
       "version_major": 2,
       "version_minor": 0
      },
      "text/plain": [
       "Downloading shards:   0%|          | 0/2 [00:00<?, ?it/s]"
      ]
     },
     "metadata": {},
     "output_type": "display_data"
    },
    {
     "data": {
      "application/vnd.jupyter.widget-view+json": {
       "model_id": "fdc2022305e54a10b26d1d18fceb479e",
       "version_major": 2,
       "version_minor": 0
      },
      "text/plain": [
       "model-00001-of-00002.safetensors:   0%|          | 0.00/9.45G [00:00<?, ?B/s]"
      ]
     },
     "metadata": {},
     "output_type": "display_data"
    },
    {
     "data": {
      "application/vnd.jupyter.widget-view+json": {
       "model_id": "e75ad526d3db4775bf199cea75892bff",
       "version_major": 2,
       "version_minor": 0
      },
      "text/plain": [
       "model-00002-of-00002.safetensors:   0%|          | 0.00/1.95G [00:00<?, ?B/s]"
      ]
     },
     "metadata": {},
     "output_type": "display_data"
    },
    {
     "data": {
      "application/vnd.jupyter.widget-view+json": {
       "model_id": "f2561414a6344dba8cb7b2c3c872937f",
       "version_major": 2,
       "version_minor": 0
      },
      "text/plain": [
       "Loading checkpoint shards:   0%|          | 0/2 [00:00<?, ?it/s]"
      ]
     },
     "metadata": {},
     "output_type": "display_data"
    },
    {
     "data": {
      "application/vnd.jupyter.widget-view+json": {
       "model_id": "67f3486c92474a8da8f0bd4273b15ca9",
       "version_major": 2,
       "version_minor": 0
      },
      "text/plain": [
       "generation_config.json:   0%|          | 0.00/147 [00:00<?, ?B/s]"
      ]
     },
     "metadata": {},
     "output_type": "display_data"
    }
   ],
   "source": [
    "tokenizer = T5Tokenizer.from_pretrained(\"google/flan-t5-xl\")\n",
    "model = T5ForConditionalGeneration.from_pretrained(\n",
    "    \"google/flan-t5-xl\", device_map=\"auto\"\n",
    ")"
   ]
  },
  {
   "cell_type": "code",
   "execution_count": 9,
   "id": "5a448bc6-9962-4bf5-8274-a2049b55e9de",
   "metadata": {
    "execution": {
     "iopub.execute_input": "2024-06-26T10:50:17.729837Z",
     "iopub.status.busy": "2024-06-26T10:50:17.729415Z",
     "iopub.status.idle": "2024-06-26T10:50:19.022372Z",
     "shell.execute_reply": "2024-06-26T10:50:19.021476Z",
     "shell.execute_reply.started": "2024-06-26T10:50:17.729808Z"
    },
    "tags": []
   },
   "outputs": [
    {
     "name": "stdout",
     "output_type": "stream",
     "text": [
      "--2024-06-26 10:50:18--  https://raw.githubusercontent.com/alexeygrigorev/minsearch/main/minsearch.py\n",
      "Resolving raw.githubusercontent.com (raw.githubusercontent.com)... 185.199.111.133, 185.199.109.133, 185.199.108.133, ...\n",
      "Connecting to raw.githubusercontent.com (raw.githubusercontent.com)|185.199.111.133|:443... connected.\n",
      "HTTP request sent, awaiting response... 200 OK\n",
      "Length: 3832 (3.7K) [text/plain]\n",
      "Saving to: ‘minsearch.py’\n",
      "\n",
      "minsearch.py        100%[===================>]   3.74K  --.-KB/s    in 0s      \n",
      "\n",
      "2024-06-26 10:50:18 (76.3 MB/s) - ‘minsearch.py’ saved [3832/3832]\n",
      "\n"
     ]
    }
   ],
   "source": [
    "!rm -f minsearch.py\n",
    "!wget https://raw.githubusercontent.com/alexeygrigorev/minsearch/main/minsearch.py"
   ]
  },
  {
   "cell_type": "code",
   "execution_count": 6,
   "id": "94975bc0-d78c-4f07-8754-06a15f09f9b9",
   "metadata": {
    "execution": {
     "iopub.execute_input": "2024-06-26T10:46:14.549774Z",
     "iopub.status.busy": "2024-06-26T10:46:14.549357Z",
     "iopub.status.idle": "2024-06-26T10:46:17.526587Z",
     "shell.execute_reply": "2024-06-26T10:46:17.525717Z",
     "shell.execute_reply.started": "2024-06-26T10:46:14.549745Z"
    },
    "tags": []
   },
   "outputs": [
    {
     "data": {
      "text/plain": [
       "<minsearch.Index at 0x7fae8856b3a0>"
      ]
     },
     "execution_count": 6,
     "metadata": {},
     "output_type": "execute_result"
    }
   ],
   "source": [
    "import minsearch\n",
    "import requests\n",
    "\n",
    "docs_url = \"https://github.com/DataTalksClub/llm-zoomcamp/blob/main/01-intro/documents.json?raw=1\"\n",
    "docs_response = requests.get(docs_url)\n",
    "documents_raw = docs_response.json()\n",
    "\n",
    "documents = []\n",
    "\n",
    "for course in documents_raw:\n",
    "    course_name = course[\"course\"]\n",
    "\n",
    "    for doc in course[\"documents\"]:\n",
    "        doc[\"course\"] = course_name\n",
    "        documents.append(doc)\n",
    "\n",
    "index = minsearch.Index(\n",
    "    text_fields=[\"question\", \"text\", \"section\"], keyword_fields=[\"course\"]\n",
    ")\n",
    "\n",
    "index.fit(documents)"
   ]
  },
  {
   "cell_type": "code",
   "execution_count": 10,
   "id": "c9a686b1-64b0-4ad3-a0f9-1f92c79905f2",
   "metadata": {
    "execution": {
     "iopub.execute_input": "2024-06-26T10:50:50.133568Z",
     "iopub.status.busy": "2024-06-26T10:50:50.133140Z",
     "iopub.status.idle": "2024-06-26T10:50:50.138201Z",
     "shell.execute_reply": "2024-06-26T10:50:50.137374Z",
     "shell.execute_reply.started": "2024-06-26T10:50:50.133539Z"
    },
    "tags": []
   },
   "outputs": [],
   "source": [
    "def search(query):\n",
    "    boost = {\"question\": 3.0, \"section\": 0.5}\n",
    "\n",
    "    results = index.search(\n",
    "        query=query,\n",
    "        filter_dict={\"course\": \"data-engineering-zoomcamp\"},\n",
    "        boost_dict=boost,\n",
    "        num_results=5,\n",
    "    )\n",
    "\n",
    "    return results"
   ]
  },
  {
   "cell_type": "code",
   "execution_count": 11,
   "id": "dab21d92-6ab0-4194-a33c-c462c8322641",
   "metadata": {
    "execution": {
     "iopub.execute_input": "2024-06-26T10:54:07.566097Z",
     "iopub.status.busy": "2024-06-26T10:54:07.565677Z",
     "iopub.status.idle": "2024-06-26T10:54:07.571211Z",
     "shell.execute_reply": "2024-06-26T10:54:07.570452Z",
     "shell.execute_reply.started": "2024-06-26T10:54:07.566069Z"
    },
    "tags": []
   },
   "outputs": [],
   "source": [
    "def build_prompt(query, search_results):\n",
    "    prompt_template = \"\"\"\n",
    "You're a course teaching assistant. Answer the QUESTION based on the CONTEXT from the FAQ database.\n",
    "Use only the facts from the CONTEXT when answering the QUESTION.\n",
    "\n",
    "QUESTION: {question}\n",
    "\n",
    "CONTEXT:\n",
    "{context}\n",
    "\"\"\".strip()\n",
    "\n",
    "    context = \"\"\n",
    "\n",
    "    for doc in search_results:\n",
    "        context = (\n",
    "            context\n",
    "            + f\"section: {doc['section']}\\nquestion: {doc['question']}\\nanswer: {doc['text']}\\n\\n\"\n",
    "        )\n",
    "\n",
    "    prompt = prompt_template.format(question=query, context=context).strip()\n",
    "    return prompt"
   ]
  },
  {
   "cell_type": "code",
   "execution_count": 26,
   "id": "aa38f9b1-133a-4251-b997-332d9a2d0ee8",
   "metadata": {
    "execution": {
     "iopub.execute_input": "2024-06-26T11:02:00.859891Z",
     "iopub.status.busy": "2024-06-26T11:02:00.859391Z",
     "iopub.status.idle": "2024-06-26T11:02:00.865294Z",
     "shell.execute_reply": "2024-06-26T11:02:00.864403Z",
     "shell.execute_reply.started": "2024-06-26T11:02:00.859860Z"
    },
    "tags": []
   },
   "outputs": [],
   "source": [
    "def llm(prompt, generate_params=None):\n",
    "    if generate_params is None:\n",
    "        generate_params = {}\n",
    "\n",
    "    input_ids = tokenizer(prompt, return_tensors=\"pt\").input_ids.to(\"cuda\")\n",
    "    outputs = model.generate(\n",
    "        input_ids,\n",
    "        max_length=generate_params.get(\"max_length\", 100),\n",
    "        num_beams=generate_params.get(\"num_beams\", 5),\n",
    "        do_sample=generate_params.get(\"do_sample\", False),\n",
    "        temperature=generate_params.get(\"temperature\", 1.0),\n",
    "        top_k=generate_params.get(\"top_k\", 50),\n",
    "        # top_p=generate_params.get(\"top_p\", 0.95),\n",
    "    )\n",
    "    result = tokenizer.decode(outputs[0], skip_special_tokens=True)\n",
    "    return result"
   ]
  },
  {
   "cell_type": "code",
   "execution_count": 27,
   "id": "5177eba1-3048-4085-9a78-93b7dcbc407d",
   "metadata": {
    "execution": {
     "iopub.execute_input": "2024-06-26T11:02:02.267380Z",
     "iopub.status.busy": "2024-06-26T11:02:02.266971Z",
     "iopub.status.idle": "2024-06-26T11:02:02.271793Z",
     "shell.execute_reply": "2024-06-26T11:02:02.270800Z",
     "shell.execute_reply.started": "2024-06-26T11:02:02.267351Z"
    },
    "tags": []
   },
   "outputs": [],
   "source": [
    "def rag(query):\n",
    "    search_results = search(query)\n",
    "    prompt = build_prompt(query, search_results)\n",
    "    answer = llm(prompt)\n",
    "    return answer"
   ]
  },
  {
   "cell_type": "code",
   "execution_count": 28,
   "id": "c245a347-f909-4eac-b1e0-73849c551107",
   "metadata": {
    "execution": {
     "iopub.execute_input": "2024-06-26T11:02:09.631111Z",
     "iopub.status.busy": "2024-06-26T11:02:09.630698Z",
     "iopub.status.idle": "2024-06-26T11:02:14.419504Z",
     "shell.execute_reply": "2024-06-26T11:02:14.418435Z",
     "shell.execute_reply.started": "2024-06-26T11:02:09.631083Z"
    },
    "tags": []
   },
   "outputs": [
    {
     "name": "stdout",
     "output_type": "stream",
     "text": [
      "CPU times: user 4.41 s, sys: 85.6 ms, total: 4.49 s\n",
      "Wall time: 4.78 s\n"
     ]
    },
    {
     "data": {
      "text/plain": [
       "\"Yes, even if you don't register, you're still eligible to submit the homeworks. Be aware, however, that there will be deadlines for turning in the final projects. So don't leave everything for the last minute.\""
      ]
     },
     "execution_count": 28,
     "metadata": {},
     "output_type": "execute_result"
    }
   ],
   "source": [
    "%%time\n",
    "rag(\"I just discovered the course. Can I still join it?\")"
   ]
  },
  {
   "cell_type": "code",
   "execution_count": null,
   "id": "0b036818-6e7c-45bf-824e-554f91f79e1d",
   "metadata": {},
   "outputs": [],
   "source": []
  }
 ],
 "metadata": {
  "kernelspec": {
   "display_name": "saturn (Python 3)",
   "language": "python",
   "name": "python3"
  },
  "language_info": {
   "codemirror_mode": {
    "name": "ipython",
    "version": 3
   },
   "file_extension": ".py",
   "mimetype": "text/x-python",
   "name": "python",
   "nbconvert_exporter": "python",
   "pygments_lexer": "ipython3",
   "version": "3.10.13"
  }
 },
 "nbformat": 4,
 "nbformat_minor": 5
}
