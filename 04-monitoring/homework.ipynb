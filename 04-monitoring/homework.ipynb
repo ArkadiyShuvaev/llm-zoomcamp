{
 "cells": [
  {
   "cell_type": "markdown",
   "metadata": {},
   "source": [
    "## Homework: Evaluation and Monitoring"
   ]
  },
  {
   "cell_type": "code",
   "execution_count": 1,
   "metadata": {},
   "outputs": [],
   "source": [
    "### Getting the data"
   ]
  },
  {
   "cell_type": "code",
   "execution_count": 4,
   "metadata": {},
   "outputs": [],
   "source": [
    "import pandas as pd\n",
    "\n",
    "url = \"https://raw.githubusercontent.com/DataTalksClub/llm-zoomcamp/main/04-monitoring/data/results-gpt4o-mini.csv\"\n",
    "df = pd.read_csv(url)\n"
   ]
  },
  {
   "cell_type": "code",
   "execution_count": 6,
   "metadata": {},
   "outputs": [],
   "source": [
    "df = df.iloc[:300]"
   ]
  },
  {
   "cell_type": "code",
   "execution_count": 7,
   "metadata": {},
   "outputs": [
    {
     "data": {
      "text/html": [
       "<div>\n",
       "<style scoped>\n",
       "    .dataframe tbody tr th:only-of-type {\n",
       "        vertical-align: middle;\n",
       "    }\n",
       "\n",
       "    .dataframe tbody tr th {\n",
       "        vertical-align: top;\n",
       "    }\n",
       "\n",
       "    .dataframe thead th {\n",
       "        text-align: right;\n",
       "    }\n",
       "</style>\n",
       "<table border=\"1\" class=\"dataframe\">\n",
       "  <thead>\n",
       "    <tr style=\"text-align: right;\">\n",
       "      <th></th>\n",
       "      <th>answer_llm</th>\n",
       "      <th>answer_orig</th>\n",
       "      <th>document</th>\n",
       "      <th>question</th>\n",
       "      <th>course</th>\n",
       "    </tr>\n",
       "  </thead>\n",
       "  <tbody>\n",
       "    <tr>\n",
       "      <th>0</th>\n",
       "      <td>You can sign up for the course by visiting the...</td>\n",
       "      <td>Machine Learning Zoomcamp FAQ\\nThe purpose of ...</td>\n",
       "      <td>0227b872</td>\n",
       "      <td>Where can I sign up for the course?</td>\n",
       "      <td>machine-learning-zoomcamp</td>\n",
       "    </tr>\n",
       "    <tr>\n",
       "      <th>1</th>\n",
       "      <td>You can sign up using the link provided in the...</td>\n",
       "      <td>Machine Learning Zoomcamp FAQ\\nThe purpose of ...</td>\n",
       "      <td>0227b872</td>\n",
       "      <td>Can you provide a link to sign up?</td>\n",
       "      <td>machine-learning-zoomcamp</td>\n",
       "    </tr>\n",
       "    <tr>\n",
       "      <th>2</th>\n",
       "      <td>Yes, there is an FAQ for the Machine Learning ...</td>\n",
       "      <td>Machine Learning Zoomcamp FAQ\\nThe purpose of ...</td>\n",
       "      <td>0227b872</td>\n",
       "      <td>Is there an FAQ for this Machine Learning course?</td>\n",
       "      <td>machine-learning-zoomcamp</td>\n",
       "    </tr>\n",
       "    <tr>\n",
       "      <th>3</th>\n",
       "      <td>The context does not provide any specific info...</td>\n",
       "      <td>Machine Learning Zoomcamp FAQ\\nThe purpose of ...</td>\n",
       "      <td>0227b872</td>\n",
       "      <td>Does this course have a GitHub repository for ...</td>\n",
       "      <td>machine-learning-zoomcamp</td>\n",
       "    </tr>\n",
       "    <tr>\n",
       "      <th>4</th>\n",
       "      <td>To structure your questions and answers for th...</td>\n",
       "      <td>Machine Learning Zoomcamp FAQ\\nThe purpose of ...</td>\n",
       "      <td>0227b872</td>\n",
       "      <td>How can I structure my questions and answers f...</td>\n",
       "      <td>machine-learning-zoomcamp</td>\n",
       "    </tr>\n",
       "    <tr>\n",
       "      <th>...</th>\n",
       "      <td>...</td>\n",
       "      <td>...</td>\n",
       "      <td>...</td>\n",
       "      <td>...</td>\n",
       "      <td>...</td>\n",
       "    </tr>\n",
       "    <tr>\n",
       "      <th>295</th>\n",
       "      <td>An alternative way to load the data using the ...</td>\n",
       "      <td>Above users showed how to load the dataset dir...</td>\n",
       "      <td>8d209d6d</td>\n",
       "      <td>What is an alternative way to load the data us...</td>\n",
       "      <td>machine-learning-zoomcamp</td>\n",
       "    </tr>\n",
       "    <tr>\n",
       "      <th>296</th>\n",
       "      <td>You can directly download the dataset from Git...</td>\n",
       "      <td>Above users showed how to load the dataset dir...</td>\n",
       "      <td>8d209d6d</td>\n",
       "      <td>How can I directly download the dataset from G...</td>\n",
       "      <td>machine-learning-zoomcamp</td>\n",
       "    </tr>\n",
       "    <tr>\n",
       "      <th>297</th>\n",
       "      <td>You can fetch data for homework using the `req...</td>\n",
       "      <td>Above users showed how to load the dataset dir...</td>\n",
       "      <td>8d209d6d</td>\n",
       "      <td>Could you share a method to fetch data for hom...</td>\n",
       "      <td>machine-learning-zoomcamp</td>\n",
       "    </tr>\n",
       "    <tr>\n",
       "      <th>298</th>\n",
       "      <td>If the status code is 200 when downloading dat...</td>\n",
       "      <td>Above users showed how to load the dataset dir...</td>\n",
       "      <td>8d209d6d</td>\n",
       "      <td>What should I do if the status code is 200 whe...</td>\n",
       "      <td>machine-learning-zoomcamp</td>\n",
       "    </tr>\n",
       "    <tr>\n",
       "      <th>299</th>\n",
       "      <td>If the file download fails when using the requ...</td>\n",
       "      <td>Above users showed how to load the dataset dir...</td>\n",
       "      <td>8d209d6d</td>\n",
       "      <td>What does the code using the requests library ...</td>\n",
       "      <td>machine-learning-zoomcamp</td>\n",
       "    </tr>\n",
       "  </tbody>\n",
       "</table>\n",
       "<p>300 rows × 5 columns</p>\n",
       "</div>"
      ],
      "text/plain": [
       "                                            answer_llm  ...                     course\n",
       "0    You can sign up for the course by visiting the...  ...  machine-learning-zoomcamp\n",
       "1    You can sign up using the link provided in the...  ...  machine-learning-zoomcamp\n",
       "2    Yes, there is an FAQ for the Machine Learning ...  ...  machine-learning-zoomcamp\n",
       "3    The context does not provide any specific info...  ...  machine-learning-zoomcamp\n",
       "4    To structure your questions and answers for th...  ...  machine-learning-zoomcamp\n",
       "..                                                 ...  ...                        ...\n",
       "295  An alternative way to load the data using the ...  ...  machine-learning-zoomcamp\n",
       "296  You can directly download the dataset from Git...  ...  machine-learning-zoomcamp\n",
       "297  You can fetch data for homework using the `req...  ...  machine-learning-zoomcamp\n",
       "298  If the status code is 200 when downloading dat...  ...  machine-learning-zoomcamp\n",
       "299  If the file download fails when using the requ...  ...  machine-learning-zoomcamp\n",
       "\n",
       "[300 rows x 5 columns]"
      ]
     },
     "execution_count": 7,
     "metadata": {},
     "output_type": "execute_result"
    }
   ],
   "source": [
    "df"
   ]
  },
  {
   "cell_type": "markdown",
   "metadata": {},
   "source": [
    "### Q1. Getting the embeddings model"
   ]
  },
  {
   "cell_type": "code",
   "execution_count": 10,
   "metadata": {},
   "outputs": [],
   "source": [
    "from sentence_transformers import SentenceTransformer\n",
    "\n",
    "# Note: Normalized Embeddings - false\n",
    "model_name = \"multi-qa-mpnet-base-dot-v1\"\n",
    "embedding_model = SentenceTransformer(model_name)"
   ]
  },
  {
   "cell_type": "code",
   "execution_count": 15,
   "metadata": {},
   "outputs": [
    {
     "name": "stdout",
     "output_type": "stream",
     "text": [
      "Answer to Q1: -0.42244675755500793\n"
     ]
    }
   ],
   "source": [
    "answer_llm = df.iloc[0].answer_llm\n",
    "print(f\"Answer to Q1: {embedding_model.encode(answer_llm)[0]}\")"
   ]
  },
  {
   "cell_type": "markdown",
   "metadata": {},
   "source": [
    "### Q2. Computing the dot product"
   ]
  },
  {
   "cell_type": "code",
   "execution_count": 25,
   "metadata": {},
   "outputs": [],
   "source": [
    "evaluations = []"
   ]
  },
  {
   "cell_type": "code",
   "execution_count": 35,
   "metadata": {},
   "outputs": [
    {
     "name": "stderr",
     "output_type": "stream",
     "text": [
      "0it [00:00, ?it/s]"
     ]
    },
    {
     "name": "stdout",
     "output_type": "stream",
     "text": [
      "You can sign up for the course by visiting the course page at [http://mlzoomcamp.com/](http://mlzoomcamp.com/).\n",
      "17.515997\n"
     ]
    },
    {
     "name": "stderr",
     "output_type": "stream",
     "text": [
      "\n"
     ]
    }
   ],
   "source": [
    "from tqdm.auto import tqdm\n",
    "from pprint import pprint\n",
    "\n",
    "for idx, row in tqdm(df.iterrows()):\n",
    "    embeddings_answer_llm = embedding_model.encode(row[\"answer_llm\"])\n",
    "    embeddings_answer_orig = embedding_model.encode(row[\"answer_orig\"])\n",
    "    cosine = embeddings_answer_llm.dot(embeddings_answer_orig)\n",
    "\n",
    "    df.at[idx, \"cosine\"] = cosine\n"
   ]
  },
  {
   "cell_type": "code",
   "execution_count": 37,
   "metadata": {},
   "outputs": [
    {
     "data": {
      "text/plain": [
       "count    300.000000\n",
       "mean      27.495996\n",
       "std        6.384744\n",
       "min        4.547925\n",
       "25%       24.307844\n",
       "50%       28.336864\n",
       "75%       31.674311\n",
       "max       39.476021\n",
       "Name: cosine, dtype: float64"
      ]
     },
     "execution_count": 37,
     "metadata": {},
     "output_type": "execute_result"
    }
   ],
   "source": [
    "df[\"cosine\"].describe()"
   ]
  },
  {
   "cell_type": "code",
   "execution_count": 38,
   "metadata": {},
   "outputs": [
    {
     "name": "stdout",
     "output_type": "stream",
     "text": [
      "Answer to Q2 is '31.674311'\n"
     ]
    }
   ],
   "source": [
    "print(\"Answer to Q2 is '31.674311'\")"
   ]
  },
  {
   "cell_type": "code",
   "execution_count": 36,
   "metadata": {},
   "outputs": [
    {
     "data": {
      "text/html": [
       "<div>\n",
       "<style scoped>\n",
       "    .dataframe tbody tr th:only-of-type {\n",
       "        vertical-align: middle;\n",
       "    }\n",
       "\n",
       "    .dataframe tbody tr th {\n",
       "        vertical-align: top;\n",
       "    }\n",
       "\n",
       "    .dataframe thead th {\n",
       "        text-align: right;\n",
       "    }\n",
       "</style>\n",
       "<table border=\"1\" class=\"dataframe\">\n",
       "  <thead>\n",
       "    <tr style=\"text-align: right;\">\n",
       "      <th></th>\n",
       "      <th>answer_llm</th>\n",
       "      <th>answer_orig</th>\n",
       "      <th>document</th>\n",
       "      <th>question</th>\n",
       "      <th>course</th>\n",
       "      <th>cosine</th>\n",
       "    </tr>\n",
       "  </thead>\n",
       "  <tbody>\n",
       "    <tr>\n",
       "      <th>0</th>\n",
       "      <td>You can sign up for the course by visiting the...</td>\n",
       "      <td>Machine Learning Zoomcamp FAQ\\nThe purpose of ...</td>\n",
       "      <td>0227b872</td>\n",
       "      <td>Where can I sign up for the course?</td>\n",
       "      <td>machine-learning-zoomcamp</td>\n",
       "      <td>17.515997</td>\n",
       "    </tr>\n",
       "    <tr>\n",
       "      <th>1</th>\n",
       "      <td>You can sign up using the link provided in the...</td>\n",
       "      <td>Machine Learning Zoomcamp FAQ\\nThe purpose of ...</td>\n",
       "      <td>0227b872</td>\n",
       "      <td>Can you provide a link to sign up?</td>\n",
       "      <td>machine-learning-zoomcamp</td>\n",
       "      <td>13.418410</td>\n",
       "    </tr>\n",
       "    <tr>\n",
       "      <th>2</th>\n",
       "      <td>Yes, there is an FAQ for the Machine Learning ...</td>\n",
       "      <td>Machine Learning Zoomcamp FAQ\\nThe purpose of ...</td>\n",
       "      <td>0227b872</td>\n",
       "      <td>Is there an FAQ for this Machine Learning course?</td>\n",
       "      <td>machine-learning-zoomcamp</td>\n",
       "      <td>25.313251</td>\n",
       "    </tr>\n",
       "    <tr>\n",
       "      <th>3</th>\n",
       "      <td>The context does not provide any specific info...</td>\n",
       "      <td>Machine Learning Zoomcamp FAQ\\nThe purpose of ...</td>\n",
       "      <td>0227b872</td>\n",
       "      <td>Does this course have a GitHub repository for ...</td>\n",
       "      <td>machine-learning-zoomcamp</td>\n",
       "      <td>12.147420</td>\n",
       "    </tr>\n",
       "    <tr>\n",
       "      <th>4</th>\n",
       "      <td>To structure your questions and answers for th...</td>\n",
       "      <td>Machine Learning Zoomcamp FAQ\\nThe purpose of ...</td>\n",
       "      <td>0227b872</td>\n",
       "      <td>How can I structure my questions and answers f...</td>\n",
       "      <td>machine-learning-zoomcamp</td>\n",
       "      <td>18.747726</td>\n",
       "    </tr>\n",
       "    <tr>\n",
       "      <th>...</th>\n",
       "      <td>...</td>\n",
       "      <td>...</td>\n",
       "      <td>...</td>\n",
       "      <td>...</td>\n",
       "      <td>...</td>\n",
       "      <td>...</td>\n",
       "    </tr>\n",
       "    <tr>\n",
       "      <th>295</th>\n",
       "      <td>An alternative way to load the data using the ...</td>\n",
       "      <td>Above users showed how to load the dataset dir...</td>\n",
       "      <td>8d209d6d</td>\n",
       "      <td>What is an alternative way to load the data us...</td>\n",
       "      <td>machine-learning-zoomcamp</td>\n",
       "      <td>34.001770</td>\n",
       "    </tr>\n",
       "    <tr>\n",
       "      <th>296</th>\n",
       "      <td>You can directly download the dataset from Git...</td>\n",
       "      <td>Above users showed how to load the dataset dir...</td>\n",
       "      <td>8d209d6d</td>\n",
       "      <td>How can I directly download the dataset from G...</td>\n",
       "      <td>machine-learning-zoomcamp</td>\n",
       "      <td>33.690865</td>\n",
       "    </tr>\n",
       "    <tr>\n",
       "      <th>297</th>\n",
       "      <td>You can fetch data for homework using the `req...</td>\n",
       "      <td>Above users showed how to load the dataset dir...</td>\n",
       "      <td>8d209d6d</td>\n",
       "      <td>Could you share a method to fetch data for hom...</td>\n",
       "      <td>machine-learning-zoomcamp</td>\n",
       "      <td>34.491531</td>\n",
       "    </tr>\n",
       "    <tr>\n",
       "      <th>298</th>\n",
       "      <td>If the status code is 200 when downloading dat...</td>\n",
       "      <td>Above users showed how to load the dataset dir...</td>\n",
       "      <td>8d209d6d</td>\n",
       "      <td>What should I do if the status code is 200 whe...</td>\n",
       "      <td>machine-learning-zoomcamp</td>\n",
       "      <td>27.538353</td>\n",
       "    </tr>\n",
       "    <tr>\n",
       "      <th>299</th>\n",
       "      <td>If the file download fails when using the requ...</td>\n",
       "      <td>Above users showed how to load the dataset dir...</td>\n",
       "      <td>8d209d6d</td>\n",
       "      <td>What does the code using the requests library ...</td>\n",
       "      <td>machine-learning-zoomcamp</td>\n",
       "      <td>18.414099</td>\n",
       "    </tr>\n",
       "  </tbody>\n",
       "</table>\n",
       "<p>300 rows × 6 columns</p>\n",
       "</div>"
      ],
      "text/plain": [
       "                                            answer_llm  ...     cosine\n",
       "0    You can sign up for the course by visiting the...  ...  17.515997\n",
       "1    You can sign up using the link provided in the...  ...  13.418410\n",
       "2    Yes, there is an FAQ for the Machine Learning ...  ...  25.313251\n",
       "3    The context does not provide any specific info...  ...  12.147420\n",
       "4    To structure your questions and answers for th...  ...  18.747726\n",
       "..                                                 ...  ...        ...\n",
       "295  An alternative way to load the data using the ...  ...  34.001770\n",
       "296  You can directly download the dataset from Git...  ...  33.690865\n",
       "297  You can fetch data for homework using the `req...  ...  34.491531\n",
       "298  If the status code is 200 when downloading dat...  ...  27.538353\n",
       "299  If the file download fails when using the requ...  ...  18.414099\n",
       "\n",
       "[300 rows x 6 columns]"
      ]
     },
     "execution_count": 36,
     "metadata": {},
     "output_type": "execute_result"
    }
   ],
   "source": [
    "df"
   ]
  },
  {
   "cell_type": "markdown",
   "metadata": {},
   "source": [
    "### Q3. Computing the cosine\n",
    "From Q2, we can see that the results are not within the [0, 1] range. It's because the vectors coming from this model are not normalized.\n",
    "\n",
    "So we need to normalize them.\n",
    "\n",
    "To do it, we:\n",
    "- Compute the norm of a vector\n",
    "- Divide each element by this norm\n",
    "\n",
    "So, for vector `v`, it'll be `v / ||v||`"
   ]
  },
  {
   "cell_type": "code",
   "execution_count": 46,
   "metadata": {},
   "outputs": [],
   "source": [
    "import numpy as np\n",
    "\n",
    "def get_normalized_value(vector):\n",
    "    norm = np.sqrt((vector * vector).sum())\n",
    "    vector_norm = vector / norm\n",
    "    \n",
    "    return vector_norm  "
   ]
  },
  {
   "cell_type": "markdown",
   "metadata": {},
   "source": [
    "Let's test it first:"
   ]
  },
  {
   "cell_type": "code",
   "execution_count": 49,
   "metadata": {},
   "outputs": [],
   "source": [
    "embeddings_answer_llm = embedding_model.encode(df.iloc[0][\"answer_llm\"])\n",
    "embeddings_answer_orig = embedding_model.encode(df.iloc[0][\"answer_orig\"])\n",
    "\n",
    "normilized_answer_llm = get_normalized_value(embeddings_answer_llm)\n",
    "normilized_answer_orig = get_normalized_value(embeddings_answer_orig)\n",
    "\n",
    "cosine_norm = normilized_answer_llm.dot(normilized_answer_orig)"
   ]
  },
  {
   "cell_type": "code",
   "execution_count": 50,
   "metadata": {},
   "outputs": [
    {
     "data": {
      "text/plain": [
       "0.5067543"
      ]
     },
     "execution_count": 50,
     "metadata": {},
     "output_type": "execute_result"
    }
   ],
   "source": [
    "cosine_norm"
   ]
  },
  {
   "cell_type": "code",
   "execution_count": 51,
   "metadata": {},
   "outputs": [
    {
     "name": "stderr",
     "output_type": "stream",
     "text": [
      "0it [00:00, ?it/s]/tmp/ipykernel_1926/2655760621.py:9: SettingWithCopyWarning: \n",
      "A value is trying to be set on a copy of a slice from a DataFrame.\n",
      "Try using .loc[row_indexer,col_indexer] = value instead\n",
      "\n",
      "See the caveats in the documentation: https://pandas.pydata.org/pandas-docs/stable/user_guide/indexing.html#returning-a-view-versus-a-copy\n",
      "  df.at[idx, \"cosine_norm\"] = cosine_norm\n",
      "300it [01:05,  4.59it/s]\n"
     ]
    }
   ],
   "source": [
    "for idx, row in tqdm(df.iterrows()):\n",
    "    embeddings_answer_llm = embedding_model.encode(row[\"answer_llm\"])\n",
    "    embeddings_answer_orig = embedding_model.encode(row[\"answer_orig\"])\n",
    "\n",
    "    normilized_answer_llm = get_normalized_value(embeddings_answer_llm)    \n",
    "    normilized_answer_orig = get_normalized_value(embeddings_answer_orig)\n",
    "\n",
    "    cosine_norm = normilized_answer_llm.dot(normilized_answer_orig)\n",
    "    df.at[idx, \"cosine_norm\"] = cosine_norm"
   ]
  },
  {
   "cell_type": "code",
   "execution_count": 52,
   "metadata": {},
   "outputs": [
    {
     "data": {
      "text/plain": [
       "count    300.000000\n",
       "mean       0.728392\n",
       "std        0.157755\n",
       "min        0.125357\n",
       "25%        0.651273\n",
       "50%        0.763761\n",
       "75%        0.836235\n",
       "max        0.958796\n",
       "Name: cosine_norm, dtype: float64"
      ]
     },
     "execution_count": 52,
     "metadata": {},
     "output_type": "execute_result"
    }
   ],
   "source": [
    "df[\"cosine_norm\"].describe()"
   ]
  },
  {
   "cell_type": "code",
   "execution_count": 53,
   "metadata": {},
   "outputs": [
    {
     "name": "stdout",
     "output_type": "stream",
     "text": [
      "Answer to Q3 is '0.836235'\n"
     ]
    }
   ],
   "source": [
    "print(\"Answer to Q3 is '0.836235'\")"
   ]
  },
  {
   "cell_type": "markdown",
   "metadata": {},
   "source": [
    "### Q4. Rouge\n",
    "Now we will explore an alternative metric - the ROUGE score.\n",
    "\n",
    "This is a set of metrics that compares two answers based on the overlap of n-grams, word sequences, and word pairs.\n",
    "\n",
    "It can give a more nuanced view of text similarity than just cosine similarity alone."
   ]
  },
  {
   "cell_type": "code",
   "execution_count": null,
   "metadata": {},
   "outputs": [],
   "source": [
    "!pip install rouge"
   ]
  },
  {
   "cell_type": "code",
   "execution_count": 63,
   "metadata": {},
   "outputs": [
    {
     "data": {
      "text/plain": [
       "answer_llm     Yes, all sessions are recorded, so if you miss...\n",
       "answer_orig    Everything is recorded, so you won’t miss anyt...\n",
       "document                                                5170565b\n",
       "question                    Are sessions recorded if I miss one?\n",
       "course                                 machine-learning-zoomcamp\n",
       "cosine                                                 32.344711\n",
       "cosine_norm                                             0.777956\n",
       "Name: 10, dtype: object"
      ]
     },
     "execution_count": 63,
     "metadata": {},
     "output_type": "execute_result"
    }
   ],
   "source": [
    "row_to_test_rouge = df.iloc[10]\n",
    "row_to_test_rouge"
   ]
  },
  {
   "cell_type": "code",
   "execution_count": 58,
   "metadata": {},
   "outputs": [],
   "source": [
    "from rouge import Rouge\n",
    "rouge_scorer = Rouge()\n",
    "\n",
    "scores = rouge_scorer.get_scores(row_to_test_rouge[\"answer_llm\"], row_to_test_rouge[\"answer_orig\"])"
   ]
  },
  {
   "cell_type": "code",
   "execution_count": 59,
   "metadata": {},
   "outputs": [
    {
     "data": {
      "text/plain": [
       "[{'rouge-1': {'r': 0.45454545454545453,\n",
       "   'p': 0.45454545454545453,\n",
       "   'f': 0.45454544954545456},\n",
       "  'rouge-2': {'r': 0.21621621621621623,\n",
       "   'p': 0.21621621621621623,\n",
       "   'f': 0.21621621121621637},\n",
       "  'rouge-l': {'r': 0.3939393939393939,\n",
       "   'p': 0.3939393939393939,\n",
       "   'f': 0.393939388939394}}]"
      ]
     },
     "execution_count": 59,
     "metadata": {},
     "output_type": "execute_result"
    }
   ],
   "source": [
    "scores\n",
    "# r (recall), p (precision), f (f1-score)\n",
    "# ROUGE-L F1-score = 2 * (precision * recall) / (precision + recall) = 0.3939..."
   ]
  },
  {
   "cell_type": "code",
   "execution_count": 60,
   "metadata": {},
   "outputs": [
    {
     "data": {
      "text/plain": [
       "[{'rouge-1': {'r': 0.45454545454545453,\n",
       "   'p': 0.45454545454545453,\n",
       "   'f': 0.45454544954545456},\n",
       "  'rouge-2': {'r': 0.21621621621621623,\n",
       "   'p': 0.21621621621621623,\n",
       "   'f': 0.21621621121621637},\n",
       "  'rouge-l': {'r': 0.42424242424242425,\n",
       "   'p': 0.42424242424242425,\n",
       "   'f': 0.42424241924242434}}]"
      ]
     },
     "execution_count": 60,
     "metadata": {},
     "output_type": "execute_result"
    }
   ],
   "source": [
    "# Note that numbers below are not the same if we swap hypothesis/reference\n",
    "rouge_scorer.get_scores(row_to_test_rouge[\"answer_orig\"], row_to_test_rouge[\"answer_llm\"])"
   ]
  },
  {
   "cell_type": "code",
   "execution_count": 62,
   "metadata": {},
   "outputs": [
    {
     "name": "stdout",
     "output_type": "stream",
     "text": [
      "Answer to Q4 is 0.45454544954545456\n"
     ]
    }
   ],
   "source": [
    "print(f\"Answer to Q4 is {scores[0]['rouge-1']['f']}\")"
   ]
  },
  {
   "cell_type": "markdown",
   "metadata": {},
   "source": [
    "### Q5. Average rouge score\n",
    "Let's compute the average between rouge-1, rouge-2 and rouge-l for the same record from Q4"
   ]
  },
  {
   "cell_type": "code",
   "execution_count": 66,
   "metadata": {},
   "outputs": [
    {
     "name": "stdout",
     "output_type": "stream",
     "text": [
      "Answer to Q5 is 0.35490034990035496\n"
     ]
    }
   ],
   "source": [
    "average = (scores[0]['rouge-1']['f'] + scores[0]['rouge-2']['f'] + scores[0]['rouge-l']['f']) / 3\n",
    "\n",
    "print(f\"Answer to Q5 is {average}\")"
   ]
  },
  {
   "cell_type": "markdown",
   "metadata": {},
   "source": [
    "### Q6. Average rouge score for all the data points\n",
    "Now let's compute the score for all the records"
   ]
  },
  {
   "cell_type": "code",
   "execution_count": 72,
   "metadata": {},
   "outputs": [
    {
     "name": "stderr",
     "output_type": "stream",
     "text": [
      "300it [00:01, 185.11it/s]\n"
     ]
    }
   ],
   "source": [
    "for idx, row in tqdm(df.iterrows()):\n",
    "    scores = rouge_scorer.get_scores(row[\"answer_orig\"], row[\"answer_llm\"])\n",
    "    rouge_l_f1 = scores[0][\"rouge-l\"][\"f\"]\n",
    "    df.at[idx, \"rouge_l_f1\"] = rouge_l_f1    "
   ]
  },
  {
   "cell_type": "code",
   "execution_count": 73,
   "metadata": {},
   "outputs": [
    {
     "data": {
      "text/html": [
       "<div>\n",
       "<style scoped>\n",
       "    .dataframe tbody tr th:only-of-type {\n",
       "        vertical-align: middle;\n",
       "    }\n",
       "\n",
       "    .dataframe tbody tr th {\n",
       "        vertical-align: top;\n",
       "    }\n",
       "\n",
       "    .dataframe thead th {\n",
       "        text-align: right;\n",
       "    }\n",
       "</style>\n",
       "<table border=\"1\" class=\"dataframe\">\n",
       "  <thead>\n",
       "    <tr style=\"text-align: right;\">\n",
       "      <th></th>\n",
       "      <th>answer_llm</th>\n",
       "      <th>answer_orig</th>\n",
       "      <th>document</th>\n",
       "      <th>question</th>\n",
       "      <th>course</th>\n",
       "      <th>cosine</th>\n",
       "      <th>cosine_norm</th>\n",
       "      <th>rouge_l_f1</th>\n",
       "    </tr>\n",
       "  </thead>\n",
       "  <tbody>\n",
       "    <tr>\n",
       "      <th>0</th>\n",
       "      <td>You can sign up for the course by visiting the...</td>\n",
       "      <td>Machine Learning Zoomcamp FAQ\\nThe purpose of ...</td>\n",
       "      <td>0227b872</td>\n",
       "      <td>Where can I sign up for the course?</td>\n",
       "      <td>machine-learning-zoomcamp</td>\n",
       "      <td>17.515997</td>\n",
       "      <td>0.506754</td>\n",
       "      <td>0.095238</td>\n",
       "    </tr>\n",
       "    <tr>\n",
       "      <th>1</th>\n",
       "      <td>You can sign up using the link provided in the...</td>\n",
       "      <td>Machine Learning Zoomcamp FAQ\\nThe purpose of ...</td>\n",
       "      <td>0227b872</td>\n",
       "      <td>Can you provide a link to sign up?</td>\n",
       "      <td>machine-learning-zoomcamp</td>\n",
       "      <td>13.418410</td>\n",
       "      <td>0.388549</td>\n",
       "      <td>0.093750</td>\n",
       "    </tr>\n",
       "    <tr>\n",
       "      <th>2</th>\n",
       "      <td>Yes, there is an FAQ for the Machine Learning ...</td>\n",
       "      <td>Machine Learning Zoomcamp FAQ\\nThe purpose of ...</td>\n",
       "      <td>0227b872</td>\n",
       "      <td>Is there an FAQ for this Machine Learning course?</td>\n",
       "      <td>machine-learning-zoomcamp</td>\n",
       "      <td>25.313251</td>\n",
       "      <td>0.718599</td>\n",
       "      <td>0.363636</td>\n",
       "    </tr>\n",
       "    <tr>\n",
       "      <th>3</th>\n",
       "      <td>The context does not provide any specific info...</td>\n",
       "      <td>Machine Learning Zoomcamp FAQ\\nThe purpose of ...</td>\n",
       "      <td>0227b872</td>\n",
       "      <td>Does this course have a GitHub repository for ...</td>\n",
       "      <td>machine-learning-zoomcamp</td>\n",
       "      <td>12.147420</td>\n",
       "      <td>0.337266</td>\n",
       "      <td>0.135135</td>\n",
       "    </tr>\n",
       "    <tr>\n",
       "      <th>4</th>\n",
       "      <td>To structure your questions and answers for th...</td>\n",
       "      <td>Machine Learning Zoomcamp FAQ\\nThe purpose of ...</td>\n",
       "      <td>0227b872</td>\n",
       "      <td>How can I structure my questions and answers f...</td>\n",
       "      <td>machine-learning-zoomcamp</td>\n",
       "      <td>18.747726</td>\n",
       "      <td>0.521792</td>\n",
       "      <td>0.120219</td>\n",
       "    </tr>\n",
       "    <tr>\n",
       "      <th>...</th>\n",
       "      <td>...</td>\n",
       "      <td>...</td>\n",
       "      <td>...</td>\n",
       "      <td>...</td>\n",
       "      <td>...</td>\n",
       "      <td>...</td>\n",
       "      <td>...</td>\n",
       "      <td>...</td>\n",
       "    </tr>\n",
       "    <tr>\n",
       "      <th>295</th>\n",
       "      <td>An alternative way to load the data using the ...</td>\n",
       "      <td>Above users showed how to load the dataset dir...</td>\n",
       "      <td>8d209d6d</td>\n",
       "      <td>What is an alternative way to load the data us...</td>\n",
       "      <td>machine-learning-zoomcamp</td>\n",
       "      <td>34.001770</td>\n",
       "      <td>0.914175</td>\n",
       "      <td>0.618182</td>\n",
       "    </tr>\n",
       "    <tr>\n",
       "      <th>296</th>\n",
       "      <td>You can directly download the dataset from Git...</td>\n",
       "      <td>Above users showed how to load the dataset dir...</td>\n",
       "      <td>8d209d6d</td>\n",
       "      <td>How can I directly download the dataset from G...</td>\n",
       "      <td>machine-learning-zoomcamp</td>\n",
       "      <td>33.690865</td>\n",
       "      <td>0.902190</td>\n",
       "      <td>0.573770</td>\n",
       "    </tr>\n",
       "    <tr>\n",
       "      <th>297</th>\n",
       "      <td>You can fetch data for homework using the `req...</td>\n",
       "      <td>Above users showed how to load the dataset dir...</td>\n",
       "      <td>8d209d6d</td>\n",
       "      <td>Could you share a method to fetch data for hom...</td>\n",
       "      <td>machine-learning-zoomcamp</td>\n",
       "      <td>34.491531</td>\n",
       "      <td>0.904734</td>\n",
       "      <td>0.637168</td>\n",
       "    </tr>\n",
       "    <tr>\n",
       "      <th>298</th>\n",
       "      <td>If the status code is 200 when downloading dat...</td>\n",
       "      <td>Above users showed how to load the dataset dir...</td>\n",
       "      <td>8d209d6d</td>\n",
       "      <td>What should I do if the status code is 200 whe...</td>\n",
       "      <td>machine-learning-zoomcamp</td>\n",
       "      <td>27.538353</td>\n",
       "      <td>0.726781</td>\n",
       "      <td>0.304762</td>\n",
       "    </tr>\n",
       "    <tr>\n",
       "      <th>299</th>\n",
       "      <td>If the file download fails when using the requ...</td>\n",
       "      <td>Above users showed how to load the dataset dir...</td>\n",
       "      <td>8d209d6d</td>\n",
       "      <td>What does the code using the requests library ...</td>\n",
       "      <td>machine-learning-zoomcamp</td>\n",
       "      <td>18.414099</td>\n",
       "      <td>0.493898</td>\n",
       "      <td>0.179487</td>\n",
       "    </tr>\n",
       "  </tbody>\n",
       "</table>\n",
       "<p>300 rows × 8 columns</p>\n",
       "</div>"
      ],
      "text/plain": [
       "                                            answer_llm  ... rouge_l_f1\n",
       "0    You can sign up for the course by visiting the...  ...   0.095238\n",
       "1    You can sign up using the link provided in the...  ...   0.093750\n",
       "2    Yes, there is an FAQ for the Machine Learning ...  ...   0.363636\n",
       "3    The context does not provide any specific info...  ...   0.135135\n",
       "4    To structure your questions and answers for th...  ...   0.120219\n",
       "..                                                 ...  ...        ...\n",
       "295  An alternative way to load the data using the ...  ...   0.618182\n",
       "296  You can directly download the dataset from Git...  ...   0.573770\n",
       "297  You can fetch data for homework using the `req...  ...   0.637168\n",
       "298  If the status code is 200 when downloading dat...  ...   0.304762\n",
       "299  If the file download fails when using the requ...  ...   0.179487\n",
       "\n",
       "[300 rows x 8 columns]"
      ]
     },
     "execution_count": 73,
     "metadata": {},
     "output_type": "execute_result"
    }
   ],
   "source": [
    "df"
   ]
  },
  {
   "cell_type": "code",
   "execution_count": 78,
   "metadata": {},
   "outputs": [
    {
     "name": "stderr",
     "output_type": "stream",
     "text": [
      "300it [00:00, 10260.46it/s]\n"
     ]
    }
   ],
   "source": [
    "number_of_rows = len(df)\n",
    "\n",
    "sum_of_rouge_l_f1 = 0\n",
    "sum_of_rouge_l_f1 = 0\n",
    "sum_of_rouge_l_f1 = 0\n",
    "\n",
    "for idx, row in tqdm(df.iterrows()):\n",
    "    scores = rouge_scorer.get_scores(row[\"answer_orig\"], row[\"answer_llm\"])\n",
    "    rouge_l_f1 = scores[0][\"rouge-l\"][\"f\"]\n",
    "    rouge_l_f1 = scores[0][\"rouge-l\"][\"f\"]\n",
    "    rouge_l_f1 = scores[0][\"rouge-l\"][\"f\"]\n",
    "    df.at[idx, \"rouge_l_f1\"] = rouge_l_f1    \n",
    "    \n",
    "\n",
    "average = sum_of_rouge_l_f1 / number_of_rows"
   ]
  },
  {
   "cell_type": "code",
   "execution_count": 79,
   "metadata": {},
   "outputs": [
    {
     "name": "stdout",
     "output_type": "stream",
     "text": [
      "Answer to Q6: 0.3556599846297521\n"
     ]
    }
   ],
   "source": [
    "print(f\"Answer to Q6: {average}\")"
   ]
  }
 ],
 "metadata": {
  "kernelspec": {
   "display_name": "Python 3 (ipykernel)",
   "language": "python",
   "name": "python3"
  },
  "language_info": {
   "codemirror_mode": {
    "name": "ipython",
    "version": 3
   },
   "file_extension": ".py",
   "mimetype": "text/x-python",
   "name": "python",
   "nbconvert_exporter": "python",
   "pygments_lexer": "ipython3",
   "version": "3.11.9"
  }
 },
 "nbformat": 4,
 "nbformat_minor": 2
}
