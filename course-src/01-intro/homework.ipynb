{
 "cells": [
  {
   "cell_type": "code",
   "execution_count": 1,
   "metadata": {},
   "outputs": [],
   "source": [
    "from elasticsearch import Elasticsearch\n",
    "from elasticsearch import NotFoundError\n",
    "import boto3\n",
    "import json\n",
    "from pprint import pprint\n",
    "from typing import List"
   ]
  },
  {
   "cell_type": "code",
   "execution_count": 2,
   "metadata": {},
   "outputs": [],
   "source": [
    "INDEX_NAME = \"course-questions\"\n",
    "SEARCH_FILTER_TERM = \"machine-learning-zoomcamp\""
   ]
  },
  {
   "cell_type": "code",
   "execution_count": 3,
   "metadata": {},
   "outputs": [],
   "source": [
    "es = Elasticsearch(\"http://elasticsearch:9200\")\n",
    "\n",
    "session = boto3.Session(profile_name=\"private\")\n",
    "bedrock_runtime = session.client(\"bedrock-runtime\", region_name=\"us-east-1\")\n",
    "comprehend = session.client('comprehend', region_name='us-east-1')"
   ]
  },
  {
   "cell_type": "code",
   "execution_count": 1,
   "metadata": {},
   "outputs": [
    {
     "data": {
      "text/plain": [
       "'data-engineering-zoomcamp'"
      ]
     },
     "execution_count": 1,
     "metadata": {},
     "output_type": "execute_result"
    }
   ],
   "source": [
    "import requests\n",
    "\n",
    "docs_url = \"https://github.com/DataTalksClub/llm-zoomcamp/blob/main/01-intro/documents.json?raw=1\"\n",
    "docs_response = requests.get(docs_url)\n",
    "documents_row = docs_response.json()\n",
    "\n",
    "documents_row[0][\"course\"]"
   ]
  },
  {
   "cell_type": "code",
   "execution_count": 5,
   "metadata": {},
   "outputs": [
    {
     "data": {
      "text/plain": [
       "{'text': \"The purpose of this document is to capture frequently asked technical questions\\nThe exact day and hour of the course will be 15th Jan 2024 at 17h00. The course will start with the first  “Office Hours'' live.1\\nSubscribe to course public Google Calendar (it works from Desktop only).\\nRegister before the course starts using this link.\\nJoin the course Telegram channel with announcements.\\nDon’t forget to register in DataTalks.Club's Slack and join the channel.\",\n",
       " 'section': 'General course-related questions',\n",
       " 'question': 'Course - When will the course start?',\n",
       " 'course': 'data-engineering-zoomcamp',\n",
       " 'id': '2d669d12c0511996b393bff34bfbcf55'}"
      ]
     },
     "execution_count": 5,
     "metadata": {},
     "output_type": "execute_result"
    }
   ],
   "source": [
    "import hashlib\n",
    "\n",
    "documents = []\n",
    "\n",
    "for course in documents_row:\n",
    "\n",
    "    course_name = course[\"course\"]\n",
    "\n",
    "    for doc in course[\"documents\"]:\n",
    "        doc[\"course\"] = course_name\n",
    "        question_hash = hashlib.md5(doc[\"question\"].encode()).hexdigest()\n",
    "        doc[\"id\"] = question_hash\n",
    "        documents.append(doc)\n",
    "documents[0]"
   ]
  },
  {
   "cell_type": "code",
   "execution_count": 6,
   "metadata": {},
   "outputs": [
    {
     "name": "stdout",
     "output_type": "stream",
     "text": [
      "course-questions already exists\n"
     ]
    }
   ],
   "source": [
    "index_settings = {\n",
    "    \"settings\": {\"number_of_shards\": 1, \"number_of_replicas\": 0},\n",
    "    \"mappings\": {\n",
    "        \"properties\": {\n",
    "            \"text\": {\"type\": \"text\"},\n",
    "            \"section\": {\"type\": \"text\"},\n",
    "            \"question\": {\"type\": \"text\"},\n",
    "            \"course\": {\"type\": \"keyword\"},\n",
    "        }\n",
    "    },\n",
    "}\n",
    "\n",
    "try:\n",
    "    es.indices.get(index=INDEX_NAME)\n",
    "    print(f\"{INDEX_NAME} already exists\")\n",
    "    # es.indices.delete(index=INDEX_NAME, ignore=[400, 404])\n",
    "except NotFoundError:\n",
    "    response = es.indices.create(index=INDEX_NAME, body=index_settings)\n",
    "    print(response)"
   ]
  },
  {
   "cell_type": "code",
   "execution_count": 7,
   "metadata": {},
   "outputs": [
    {
     "name": "stderr",
     "output_type": "stream",
     "text": [
      "/opt/conda/lib/python3.11/site-packages/tqdm/auto.py:21: TqdmWarning: IProgress not found. Please update jupyter and ipywidgets. See https://ipywidgets.readthedocs.io/en/stable/user_install.html\n",
      "  from .autonotebook import tqdm as notebook_tqdm\n",
      "100%|██████████| 948/948 [00:03<00:00, 245.29it/s]\n"
     ]
    },
    {
     "name": "stdout",
     "output_type": "stream",
     "text": [
      "{'count': 943, '_shards': {'total': 1, 'successful': 1, 'skipped': 0, 'failed': 0}}\n"
     ]
    }
   ],
   "source": [
    "from tqdm.auto import tqdm\n",
    "\n",
    "for doc in tqdm(documents):\n",
    "    es.index(index=INDEX_NAME, id=doc[\"id\"], document=doc)\n",
    "\n",
    "count_response = es.count(index=INDEX_NAME)\n",
    "print(count_response)"
   ]
  },
  {
   "cell_type": "code",
   "execution_count": 8,
   "metadata": {},
   "outputs": [],
   "source": [
    "def create_search_query(question: str, size: int = 5, search_filter_term: str = None) -> str:\n",
    "    search_query = {\n",
    "        \"size\": size,\n",
    "        \"query\": {\n",
    "            \"bool\": {\n",
    "                \"must\": {\n",
    "                    \"multi_match\": {\n",
    "                        \"query\": question,\n",
    "                        \"fields\": [\"question^4\", \"text\"],\n",
    "                        \"type\": \"best_fields\",\n",
    "                    }\n",
    "                }\n",
    "            }\n",
    "        },\n",
    "    }\n",
    "\n",
    "    if search_filter_term is not None:\n",
    "        search_query[\"query\"][\"bool\"][\"filter\"] = {\n",
    "            \"term\": {\n",
    "                \"course\": search_filter_term\n",
    "            }\n",
    "        }\n",
    "\n",
    "    return search_query"
   ]
  },
  {
   "cell_type": "code",
   "execution_count": 9,
   "metadata": {},
   "outputs": [
    {
     "name": "stdout",
     "output_type": "stream",
     "text": [
      "{'_id': '410d5719a0f86af7e51fe0338c99088e',\n",
      " '_index': 'course-questions',\n",
      " '_score': 84.050095,\n",
      " '_source': {'course': 'machine-learning-zoomcamp',\n",
      "             'id': '410d5719a0f86af7e51fe0338c99088e',\n",
      "             'question': 'How do I debug a docker container?',\n",
      "             'section': '5. Deploying Machine Learning Models',\n",
      "             'text': 'Launch the container image in interactive mode and '\n",
      "                     'overriding the entrypoint, so that it starts a bash '\n",
      "                     'command.\\n'\n",
      "                     'docker run -it --entrypoint bash <image>\\n'\n",
      "                     'If the container is already running, execute a command '\n",
      "                     'in the specific container:\\n'\n",
      "                     'docker ps (find the container-id)\\n'\n",
      "                     'docker exec -it <container-id> bash\\n'\n",
      "                     '(Marcos MJD)'}}\n",
      "'Answer to Q3 is: 84.050095'\n"
     ]
    }
   ],
   "source": [
    "question = \"How do I execute a command in a running docker container?\"\n",
    "\n",
    "search_query = create_search_query(question)\n",
    "\n",
    "response = es.search(index=INDEX_NAME, body=search_query)\n",
    "most_relevant = response[\"hits\"][\"hits\"][0]\n",
    "pprint(most_relevant)\n",
    "pprint(f\"Answer to Q3 is: {most_relevant['_score']}\")\n"
   ]
  },
  {
   "cell_type": "code",
   "execution_count": 10,
   "metadata": {},
   "outputs": [
    {
     "name": "stdout",
     "output_type": "stream",
     "text": [
      "('Answer to Q4 is: How do I copy files from a different folder into docker '\n",
      " 'container’s working directory?')\n",
      "[{'_id': '410d5719a0f86af7e51fe0338c99088e',\n",
      "  '_index': 'course-questions',\n",
      "  '_score': 84.050095,\n",
      "  '_source': {'course': 'machine-learning-zoomcamp',\n",
      "              'id': '410d5719a0f86af7e51fe0338c99088e',\n",
      "              'question': 'How do I debug a docker container?',\n",
      "              'section': '5. Deploying Machine Learning Models',\n",
      "              'text': 'Launch the container image in interactive mode and '\n",
      "                      'overriding the entrypoint, so that it starts a bash '\n",
      "                      'command.\\n'\n",
      "                      'docker run -it --entrypoint bash <image>\\n'\n",
      "                      'If the container is already running, execute a command '\n",
      "                      'in the specific container:\\n'\n",
      "                      'docker ps (find the container-id)\\n'\n",
      "                      'docker exec -it <container-id> bash\\n'\n",
      "                      '(Marcos MJD)'}},\n",
      " {'_id': '3c9fb1eda7c7c5254df4f518ce98efa0',\n",
      "  '_index': 'course-questions',\n",
      "  '_score': 51.04628,\n",
      "  '_source': {'course': 'machine-learning-zoomcamp',\n",
      "              'id': '3c9fb1eda7c7c5254df4f518ce98efa0',\n",
      "              'question': 'How do I copy files from my local machine to docker '\n",
      "                          'container?',\n",
      "              'section': '5. Deploying Machine Learning Models',\n",
      "              'text': 'You can copy files from your local machine into a '\n",
      "                      \"Docker container using the docker cp command. Here's \"\n",
      "                      'how to do it:\\n'\n",
      "                      'To copy a file or directory from your local machine '\n",
      "                      'into a running Docker container, you can use the '\n",
      "                      '`docker cp command`. The basic syntax is as follows:\\n'\n",
      "                      'docker cp /path/to/local/file_or_directory '\n",
      "                      'container_id:/path/in/container\\n'\n",
      "                      'Hrithik Kumar Advani'}},\n",
      " {'_id': '90a87aff403ed0b272447da5ebb8870e',\n",
      "  '_index': 'course-questions',\n",
      "  '_score': 49.938507,\n",
      "  '_source': {'course': 'machine-learning-zoomcamp',\n",
      "              'id': '90a87aff403ed0b272447da5ebb8870e',\n",
      "              'question': 'How do I copy files from a different folder into '\n",
      "                          'docker container’s working directory?',\n",
      "              'section': '5. Deploying Machine Learning Models',\n",
      "              'text': 'You can copy files from your local machine into a '\n",
      "                      \"Docker container using the docker cp command. Here's \"\n",
      "                      'how to do it:\\n'\n",
      "                      'In the Dockerfile, you can provide the folder '\n",
      "                      'containing the files that you want to copy over. The '\n",
      "                      'basic syntax is as follows:\\n'\n",
      "                      'COPY [\"src/predict.py\", \"models/xgb_model.bin\", '\n",
      "                      '\"./\"]\\t\\t\\t\\t\\t\\t\\t\\t\\t\\t\\tGopakumar Gopinathan'}}]\n"
     ]
    }
   ],
   "source": [
    "search_query = create_search_query(question, size=3, search_filter_term=SEARCH_FILTER_TERM)\n",
    "\n",
    "response = es.search(index=INDEX_NAME, body=search_query)\n",
    "response_filtered_by_term = response[\"hits\"][\"hits\"]\n",
    "the_third_result = response_filtered_by_term[2]\n",
    "pprint(f\"Answer to Q4 is: {the_third_result['_source']['question']}\")\n",
    "pprint(response_filtered_by_term)\n"
   ]
  },
  {
   "cell_type": "code",
   "execution_count": 11,
   "metadata": {},
   "outputs": [],
   "source": [
    "def create_element_context(question: str, answer: str) -> str:\n",
    "    element_context = (\n",
    "        f\"Q: {question}\\n\"\n",
    "        f\"A: {answer}\"\n",
    "    ).strip()\n",
    "\n",
    "    return element_context\n",
    "\n",
    "\n",
    "def create_context(elasticserach_hits: List) -> str:\n",
    "    result = \"\"\n",
    "    for elem in elasticserach_hits:\n",
    "        element_context = create_element_context(elem[\"_source\"][\"question\"], elem[\"_source\"][\"text\"])\n",
    "        result += f\"{element_context}\\n\\n\"\n",
    "\n",
    "    stripped = result.strip()\n",
    "    return stripped"
   ]
  },
  {
   "cell_type": "code",
   "execution_count": 12,
   "metadata": {},
   "outputs": [
    {
     "name": "stdout",
     "output_type": "stream",
     "text": [
      "('Q: How do I debug a docker container?\\n'\n",
      " 'A: Launch the container image in interactive mode and overriding the '\n",
      " 'entrypoint, so that it starts a bash command.\\n'\n",
      " 'docker run -it --entrypoint bash <image>\\n'\n",
      " 'If the container is already running, execute a command in the specific '\n",
      " 'container:\\n'\n",
      " 'docker ps (find the container-id)\\n'\n",
      " 'docker exec -it <container-id> bash\\n'\n",
      " '(Marcos MJD)\\n'\n",
      " '\\n'\n",
      " 'Q: How do I copy files from my local machine to docker container?\\n'\n",
      " 'A: You can copy files from your local machine into a Docker container using '\n",
      " \"the docker cp command. Here's how to do it:\\n\"\n",
      " 'To copy a file or directory from your local machine into a running Docker '\n",
      " 'container, you can use the `docker cp command`. The basic syntax is as '\n",
      " 'follows:\\n'\n",
      " 'docker cp /path/to/local/file_or_directory container_id:/path/in/container\\n'\n",
      " 'Hrithik Kumar Advani\\n'\n",
      " '\\n'\n",
      " 'Q: How do I copy files from a different folder into docker container’s '\n",
      " 'working directory?\\n'\n",
      " 'A: You can copy files from your local machine into a Docker container using '\n",
      " \"the docker cp command. Here's how to do it:\\n\"\n",
      " 'In the Dockerfile, you can provide the folder containing the files that you '\n",
      " 'want to copy over. The basic syntax is as follows:\\n'\n",
      " 'COPY [\"src/predict.py\", \"models/xgb_model.bin\", \"./\"]\\t\\t\\t\\t\\t\\t\\t\\t\\t\\t\\t'\n",
      " 'Gopakumar Gopinathan')\n"
     ]
    }
   ],
   "source": [
    "context = create_context(response_filtered_by_term)\n",
    "pprint(context)"
   ]
  },
  {
   "cell_type": "code",
   "execution_count": 13,
   "metadata": {},
   "outputs": [],
   "source": [
    "def create_prompt(question: str, context: str) -> str:\n",
    "    prompt_template = (\n",
    "        \"You're a course teaching assistant. Answer the QUESTION based on the CONTEXT from the FAQ database.\\n\"\n",
    "        \"Use only the facts from the CONTEXT when answering the QUESTION.\\n\"\n",
    "        f\"QUESTION: {question}\\n\"\n",
    "\n",
    "        \"CONTEXT:\\n\"\n",
    "        f\"{context}\"\n",
    "    ).strip()\n",
    "\n",
    "    return prompt_template"
   ]
  },
  {
   "cell_type": "code",
   "execution_count": 14,
   "metadata": {},
   "outputs": [
    {
     "name": "stdout",
     "output_type": "stream",
     "text": [
      "'Answer to Q5 is: 1460'\n",
      "Estimated token numbers based on number of words: 295.0\n",
      "Estimated token numbers based on number of symbols: 324.44444444444446\n",
      "(\"Prompt: You're a course teaching assistant. Answer the QUESTION based on the \"\n",
      " 'CONTEXT from the FAQ database.\\n'\n",
      " 'Use only the facts from the CONTEXT when answering the QUESTION.\\n'\n",
      " 'QUESTION: How do I execute a command in a running docker container?\\n'\n",
      " 'CONTEXT:\\n'\n",
      " 'Q: How do I debug a docker container?\\n'\n",
      " 'A: Launch the container image in interactive mode and overriding the '\n",
      " 'entrypoint, so that it starts a bash command.\\n'\n",
      " 'docker run -it --entrypoint bash <image>\\n'\n",
      " 'If the container is already running, execute a command in the specific '\n",
      " 'container:\\n'\n",
      " 'docker ps (find the container-id)\\n'\n",
      " 'docker exec -it <container-id> bash\\n'\n",
      " '(Marcos MJD)\\n'\n",
      " '\\n'\n",
      " 'Q: How do I copy files from my local machine to docker container?\\n'\n",
      " 'A: You can copy files from your local machine into a Docker container using '\n",
      " \"the docker cp command. Here's how to do it:\\n\"\n",
      " 'To copy a file or directory from your local machine into a running Docker '\n",
      " 'container, you can use the `docker cp command`. The basic syntax is as '\n",
      " 'follows:\\n'\n",
      " 'docker cp /path/to/local/file_or_directory container_id:/path/in/container\\n'\n",
      " 'Hrithik Kumar Advani\\n'\n",
      " '\\n'\n",
      " 'Q: How do I copy files from a different folder into docker container’s '\n",
      " 'working directory?\\n'\n",
      " 'A: You can copy files from your local machine into a Docker container using '\n",
      " \"the docker cp command. Here's how to do it:\\n\"\n",
      " 'In the Dockerfile, you can provide the folder containing the files that you '\n",
      " 'want to copy over. The basic syntax is as follows:\\n'\n",
      " 'COPY [\"src/predict.py\", \"models/xgb_model.bin\", \"./\"]\\t\\t\\t\\t\\t\\t\\t\\t\\t\\t\\t'\n",
      " 'Gopakumar Gopinathan')\n"
     ]
    }
   ],
   "source": [
    "prompt = create_prompt(question, context)\n",
    "pprint(f\"Answer to Q5 is: {len(prompt)}\")\n",
    "\n",
    "number_of_words = len(prompt.replace(\"\\n\", \" \").split())\n",
    "print(f\"Estimated token numbers based on number of words: {number_of_words * 1.25}\")\n",
    "\n",
    "number_of_symbols = len(prompt)\n",
    "print(f\"Estimated token numbers based on number of symbols: {number_of_symbols / 4.5}\")\n",
    "\n",
    "\n",
    "pprint(f\"Prompt: {prompt}\")"
   ]
  },
  {
   "cell_type": "code",
   "execution_count": 15,
   "metadata": {},
   "outputs": [],
   "source": [
    "def get_llm_answer(prompt: str, bedrock_runtime) -> str:\n",
    "        # model = \"amazon.titan-text-express-v1\"\n",
    "        model = \"amazon.titan-text-premier-v1:0\"\n",
    "        # model = \"amazon.titan-text-lite-v1\"\n",
    "\n",
    "        \n",
    "        kwargs = {\n",
    "            \"modelId\": model,\n",
    "            \"contentType\": \"application/json\",\n",
    "            \"accept\": \"*/*\",\n",
    "            \"body\": json.dumps(\n",
    "                {\n",
    "                    \"inputText\": prompt,\n",
    "                    \"textGenerationConfig\": {\n",
    "                        \"maxTokenCount\": 500,\n",
    "                        \"stopSequences\": [],\n",
    "                        \"temperature\": 0.9,\n",
    "                        \"topP\": 0.9,\n",
    "                    },\n",
    "                }\n",
    "            ),\n",
    "        }\n",
    "\n",
    "        response = bedrock_runtime.invoke_model(**kwargs)\n",
    "        body_as_plain_text = response.get('body').read()\n",
    "        response_body = json.loads(body_as_plain_text)\n",
    "\n",
    "        result = response_body[\"results\"][0][\"outputText\"]\n",
    "\n",
    "        return (result.strip(), response_body)"
   ]
  },
  {
   "cell_type": "code",
   "execution_count": 16,
   "metadata": {},
   "outputs": [
    {
     "name": "stdout",
     "output_type": "stream",
     "text": [
      "'Answer to Q5 is: 301'\n",
      "['You', \"'re\", 'a', 'course', 'teaching', 'assistant', '.', 'Answer', 'the', 'QUESTION', 'based', 'on', 'the', 'CONTEXT', 'from', 'the', 'FAQ', 'database', '.', 'Use', 'only', 'the', 'facts', 'from', 'the', 'CONTEXT', 'when', 'answering', 'the', 'QUESTION', '.', 'QUESTION', ':', 'How', 'do', 'I', 'execute', 'a', 'command', 'in', 'a', 'running', 'docker', 'container', '?', 'CONTEXT', ':', 'Q', ':', 'How', 'do', 'I', 'debug', 'a', 'docker', 'container', '?', 'A', ':', 'Launch', 'the', 'container', 'image', 'in', 'interactive', 'mode', 'and', 'overriding', 'the', 'entrypoint', ',', 'so', 'that', 'it', 'starts', 'a', 'bash', 'command', '.', 'docker', 'run', '-', 'it', '--', 'entrypoint', 'bash', '<', 'image', '>', 'If', 'the', 'container', 'is', 'already', 'running', ',', 'execute', 'a', 'command', 'in', 'the', 'specific', 'container', ':', 'docker', 'ps', '(', 'find', 'the', 'container', '-', 'id', ')', 'docker', 'exec', '-', 'it', '<', 'container', '-', 'id', '>', 'bash', '(', 'Marcos', 'MJD', ')', 'Q', ':', 'How', 'do', 'I', 'copy', 'files', 'from', 'my', 'local', 'machine', 'to', 'docker', 'container', '?', 'A', ':', 'You', 'can', 'copy', 'files', 'from', 'your', 'local', 'machine', 'into', 'a', 'Docker', 'container', 'using', 'the', 'docker', 'cp', 'command', '.', 'Here', \"'s\", 'how', 'to', 'do', 'it', ':', 'To', 'copy', 'a', 'file', 'or', 'directory', 'from', 'your', 'local', 'machine', 'into', 'a', 'running', 'Docker', 'container', ',', 'you', 'can', 'use', 'the', '`docker', 'cp', 'command`', '.', 'The', 'basic', 'syntax', 'is', 'as', 'follows', ':', 'docker', 'cp', '/path/to/local/file_or_directory', 'container_id', ':', '/path/in/container', 'Hrithik', 'Kumar', 'Advani', 'Q', ':', 'How', 'do', 'I', 'copy', 'files', 'from', 'a', 'different', 'folder', 'into', 'docker', 'container', '’s', 'working', 'directory', '?', 'A', ':', 'You', 'can', 'copy', 'files', 'from', 'your', 'local', 'machine', 'into', 'a', 'Docker', 'container', 'using', 'the', 'docker', 'cp', 'command', '.', 'Here', \"'s\", 'how', 'to', 'do', 'it', ':', 'In', 'the', 'Dockerfile', ',', 'you', 'can', 'provide', 'the', 'folder', 'containing', 'the', 'files', 'that', 'you', 'want', 'to', 'copy', 'over', '.', 'The', 'basic', 'syntax', 'is', 'as', 'follows', ':', 'COPY', '[', '\"', 'src', '/', 'predict.py', '\"', ',', '\"', 'models', '/', 'xgb_model.bin', '\"', ',', '\"', '.', '/', '\"', ']', 'Gopakumar', 'Gopinathan']\n"
     ]
    }
   ],
   "source": [
    "response = comprehend.detect_syntax(Text=prompt, LanguageCode='en')\n",
    "tokens = [token['Text'] for token in response['SyntaxTokens']]\n",
    "\n",
    "pprint(f\"Answer to Q5 is: {len(tokens)}\")\n",
    "print(tokens)"
   ]
  },
  {
   "cell_type": "code",
   "execution_count": 17,
   "metadata": {},
   "outputs": [
    {
     "name": "stdout",
     "output_type": "stream",
     "text": [
      "('To execute a command in a running docker container, use the docker exec '\n",
      " 'command. You will need the container-id, which you can find by running '\n",
      " 'docker ps. Then, run the following command: docker exec -it <container-id> '\n",
      " 'bash.')\n",
      "{'inputTextTokenCount': 395,\n",
      " 'results': [{'completionReason': 'FINISH',\n",
      "              'outputText': 'To execute a command in a running docker '\n",
      "                            'container, use the docker exec command. You will '\n",
      "                            'need the container-id, which you can find by '\n",
      "                            'running docker ps. Then, run the following '\n",
      "                            'command: docker exec -it <container-id> bash.',\n",
      "              'tokenCount': 57}]}\n"
     ]
    }
   ],
   "source": [
    "answer_from_llm, response_body = get_llm_answer(prompt, bedrock_runtime=bedrock_runtime)\n",
    "pprint(answer_from_llm)\n",
    "pprint(response_body)"
   ]
  }
 ],
 "metadata": {
  "kernelspec": {
   "display_name": "Python 3 (ipykernel)",
   "language": "python",
   "name": "python3"
  }
 },
 "nbformat": 4,
 "nbformat_minor": 2
}
