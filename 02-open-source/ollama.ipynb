{
 "cells": [
  {
   "cell_type": "markdown",
   "metadata": {},
   "source": [
    "Execute following command in the OLLAMA container first:\n",
    "ollama pull gemma:2b\n",
    "ollama list"
   ]
  },
  {
   "cell_type": "code",
   "execution_count": 1,
   "metadata": {},
   "outputs": [],
   "source": [
    "!pip install -Uq OpenAI"
   ]
  },
  {
   "cell_type": "code",
   "execution_count": 1,
   "metadata": {},
   "outputs": [],
   "source": [
    "import requests\n",
    "import json"
   ]
  },
  {
   "cell_type": "code",
   "execution_count": 2,
   "metadata": {},
   "outputs": [],
   "source": [
    "ollama_url = \"http://ollama:11434\""
   ]
  },
  {
   "cell_type": "code",
   "execution_count": 4,
   "metadata": {},
   "outputs": [
    {
     "name": "stdout",
     "output_type": "stream",
     "text": [
      "--2024-06-28 05:31:53--  http://ollama:11434/\n",
      "Resolving ollama (ollama)... 172.20.0.3\n",
      "Connecting to ollama (ollama)|172.20.0.3|:11434... connected.\n",
      "HTTP request sent, awaiting response... 200 OK\n",
      "Length: 17 [text/plain]\n",
      "Saving to: ‘index.html’\n",
      "\n",
      "index.html          100%[===================>]      17  --.-KB/s    in 0s      \n",
      "\n",
      "2024-06-28 05:31:53 (3.31 MB/s) - ‘index.html’ saved [17/17]\n",
      "\n"
     ]
    }
   ],
   "source": [
    "!wget http://ollama:11434"
   ]
  },
  {
   "cell_type": "code",
   "execution_count": 3,
   "metadata": {},
   "outputs": [],
   "source": [
    "from openai import OpenAI\n",
    "\n",
    "client = OpenAI(\n",
    "    base_url='http://ollama:11434/v1/',\n",
    "    api_key='ollama',\n",
    ")"
   ]
  },
  {
   "cell_type": "code",
   "execution_count": 4,
   "metadata": {},
   "outputs": [
    {
     "name": "stdout",
     "output_type": "stream",
     "text": [
      "ChatCompletion(id='chatcmpl-700', choices=[Choice(finish_reason='stop', index=0, logprobs=None, message=ChatCompletionMessage(content=\"Sure, here's the answer to your question:\\n\\n10 * 10 = 100.\\n\\n\", role='assistant', function_call=None, tool_calls=None))], created=1719557939, model='gemma:2b', object='chat.completion', service_tier=None, system_fingerprint='fp_ollama', usage=CompletionUsage(completion_tokens=32, prompt_tokens=33, total_tokens=65))\n",
      "Sure, here's the answer to your question:\n",
      "\n",
      "10 * 10 = 100.\n"
     ]
    }
   ],
   "source": [
    "prompt = \"10 * 10\"\n",
    "\n",
    "response = client.chat.completions.create(\n",
    "        model='gemma:2b',\n",
    "        messages=[{\"role\": \"user\", \"content\": prompt}]\n",
    "    )\n",
    "\n",
    "print(response)\n",
    "\n",
    "result = response.choices[0].message.content\n",
    "print(result.strip())"
   ]
  },
  {
   "cell_type": "code",
   "execution_count": 11,
   "metadata": {},
   "outputs": [
    {
     "name": "stdout",
     "output_type": "stream",
     "text": [
      "Hallo! Ich bin zwar nicht so alt, ich bin aber immer bereit, Deutsch zu sprechen. Was kannst du mir sagen?\n"
     ]
    }
   ],
   "source": [
    "prompt = \"Kannst du Deutsch sprechen? Wie alt bist du?\"\n",
    "\n",
    "response = client.chat.completions.create(\n",
    "        model='gemma:2b',\n",
    "        messages=[{\"role\": \"user\", \"content\": prompt}]\n",
    "    )\n",
    "\n",
    "result = response.choices[0].message.content\n",
    "print(result)"
   ]
  },
  {
   "cell_type": "markdown",
   "metadata": {},
   "source": []
  }
 ],
 "metadata": {
  "kernelspec": {
   "display_name": "Python 3 (ipykernel)",
   "language": "python",
   "name": "python3"
  }
 },
 "nbformat": 4,
 "nbformat_minor": 2
}
