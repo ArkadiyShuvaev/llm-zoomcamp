{
 "cells": [
  {
   "cell_type": "markdown",
   "metadata": {},
   "source": [
    "Execute following command in the OLLAMA container first:\n",
    "ollama pull phi3\n",
    "ollama list"
   ]
  },
  {
   "cell_type": "code",
   "execution_count": 10,
   "metadata": {},
   "outputs": [
    {
     "name": "stdout",
     "output_type": "stream",
     "text": [
      "Collecting OpenAI\n",
      "  Downloading openai-1.35.5-py3-none-any.whl.metadata (21 kB)\n",
      "Requirement already satisfied: anyio<5,>=3.5.0 in /opt/conda/lib/python3.11/site-packages (from OpenAI) (4.3.0)\n",
      "Requirement already satisfied: distro<2,>=1.7.0 in /opt/conda/lib/python3.11/site-packages (from OpenAI) (1.9.0)\n",
      "Requirement already satisfied: httpx<1,>=0.23.0 in /opt/conda/lib/python3.11/site-packages (from OpenAI) (0.27.0)\n",
      "Requirement already satisfied: pydantic<3,>=1.9.0 in /opt/conda/lib/python3.11/site-packages (from OpenAI) (2.7.3)\n",
      "Requirement already satisfied: sniffio in /opt/conda/lib/python3.11/site-packages (from OpenAI) (1.3.1)\n",
      "Requirement already satisfied: tqdm>4 in /opt/conda/lib/python3.11/site-packages (from OpenAI) (4.66.4)\n",
      "Requirement already satisfied: typing-extensions<5,>=4.7 in /opt/conda/lib/python3.11/site-packages (from OpenAI) (4.12.1)\n",
      "Requirement already satisfied: idna>=2.8 in /opt/conda/lib/python3.11/site-packages (from anyio<5,>=3.5.0->OpenAI) (3.7)\n",
      "Requirement already satisfied: certifi in /opt/conda/lib/python3.11/site-packages (from httpx<1,>=0.23.0->OpenAI) (2024.2.2)\n",
      "Requirement already satisfied: httpcore==1.* in /opt/conda/lib/python3.11/site-packages (from httpx<1,>=0.23.0->OpenAI) (1.0.5)\n",
      "Requirement already satisfied: h11<0.15,>=0.13 in /opt/conda/lib/python3.11/site-packages (from httpcore==1.*->httpx<1,>=0.23.0->OpenAI) (0.14.0)\n",
      "Requirement already satisfied: annotated-types>=0.4.0 in /opt/conda/lib/python3.11/site-packages (from pydantic<3,>=1.9.0->OpenAI) (0.7.0)\n",
      "Requirement already satisfied: pydantic-core==2.18.4 in /opt/conda/lib/python3.11/site-packages (from pydantic<3,>=1.9.0->OpenAI) (2.18.4)\n",
      "Downloading openai-1.35.5-py3-none-any.whl (327 kB)\n",
      "\u001b[2K   \u001b[90m━━━━━━━━━━━━━━━━━━━━━━━━━━━━━━━━━━━━━━━━\u001b[0m \u001b[32m327.5/327.5 kB\u001b[0m \u001b[31m3.3 MB/s\u001b[0m eta \u001b[36m0:00:00\u001b[0ma \u001b[36m0:00:01\u001b[0m\n",
      "\u001b[?25hInstalling collected packages: OpenAI\n",
      "Successfully installed OpenAI-1.35.5\n"
     ]
    }
   ],
   "source": [
    "!pip install -Uq OpenAI"
   ]
  },
  {
   "cell_type": "code",
   "execution_count": 1,
   "metadata": {},
   "outputs": [],
   "source": [
    "import requests\n",
    "import json"
   ]
  },
  {
   "cell_type": "code",
   "execution_count": 7,
   "metadata": {},
   "outputs": [],
   "source": [
    "ollama_url = \"http://ollama:11434\""
   ]
  },
  {
   "cell_type": "code",
   "execution_count": 4,
   "metadata": {},
   "outputs": [
    {
     "name": "stdout",
     "output_type": "stream",
     "text": [
      "--2024-06-27 06:33:36--  http://ollama:11434/\n",
      "Resolving ollama (ollama)... 172.18.0.2\n",
      "Connecting to ollama (ollama)|172.18.0.2|:11434... connected.\n",
      "HTTP request sent, awaiting response... 200 OK\n",
      "Length: 17 [text/plain]\n",
      "Saving to: ‘index.html’\n",
      "\n",
      "index.html          100%[===================>]      17  --.-KB/s    in 0s      \n",
      "\n",
      "2024-06-27 06:33:36 (2.50 MB/s) - ‘index.html’ saved [17/17]\n",
      "\n"
     ]
    }
   ],
   "source": [
    "!wget http://ollama:11434"
   ]
  },
  {
   "cell_type": "code",
   "execution_count": 14,
   "metadata": {},
   "outputs": [],
   "source": [
    "from openai import OpenAI\n",
    "\n",
    "client = OpenAI(\n",
    "    base_url='http://ollama:11434/v1/',\n",
    "    api_key='ollama',\n",
    ")"
   ]
  },
  {
   "cell_type": "code",
   "execution_count": 16,
   "metadata": {},
   "outputs": [
    {
     "name": "stdout",
     "output_type": "stream",
     "text": [
      " It's challenging to pinpoint a single \"most popular\" natural language due to varying metrics such as native speakers, total users, or online presence. However, Mandarin Chinese and English are among the top in terms of different criteria:\n",
      "\n",
      "\n",
      "- **Mandarin Chinese** is widely considered one of the most spoken languages by natives. It has over a billion native speakers, making it one of the most populous language groups. China's enormous population significantly contributes to Mandarin's prominence in terms of sheer numbers.\n",
      "\n",
      "- **English** is often cited as the most popular for several reasons: widespread adoption as a second language across numerous countries, dominant presence on the internet and international business, and its use in global aviation (International Phonetic Alphabet). English boasts tens of millions of native speakers, but it also has hundreds of millions learning it.\n",
      "\n",
      "\n",
      "Other languages like Hindi and Spanish are also highly prevalent, with significant populations and growing influence. Ultimately, the context defines which natural language is considered \"most popular,\" whether that's in terms of number of native speakers or global usage.\n"
     ]
    }
   ],
   "source": [
    "prompt = \"What is the most popular natural language?\"\n",
    "\n",
    "response = client.chat.completions.create(\n",
    "        model='phi3',\n",
    "        messages=[{\"role\": \"user\", \"content\": prompt}]\n",
    "    )\n",
    "\n",
    "result = response.choices[0].message.content\n",
    "\n",
    "print(result)"
   ]
  },
  {
   "cell_type": "markdown",
   "metadata": {},
   "source": []
  }
 ],
 "metadata": {
  "kernelspec": {
   "display_name": "Python 3 (ipykernel)",
   "language": "python",
   "name": "python3"
  },
  "language_info": {
   "codemirror_mode": {
    "name": "ipython",
    "version": 3
   },
   "file_extension": ".py",
   "mimetype": "text/x-python",
   "name": "python",
   "nbconvert_exporter": "python",
   "pygments_lexer": "ipython3",
   "version": "3.11.9"
  }
 },
 "nbformat": 4,
 "nbformat_minor": 2
}
